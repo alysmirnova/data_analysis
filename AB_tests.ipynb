{
 "cells": [
  {
   "cell_type": "code",
   "execution_count": 5,
   "id": "5d18276b",
   "metadata": {},
   "outputs": [],
   "source": [
    "import numpy as np\n",
    "import pandas as pd\n",
    "\n",
    "from scipy.stats import norm\n",
    "import statsmodels.api as sm"
   ]
  },
  {
   "cell_type": "markdown",
   "id": "de741c0c",
   "metadata": {},
   "source": [
    "Сравним результаты теннисиста Надаля в геймах, когда он подавал, и в геймах, когда он принимал подачу. Влияет ли это на результат?\n",
    "\n",
    "\n",
    "Исходные данные:\n",
    "1. Результаты Надаля на глиняных и других кортах — геймы, в которых он подавал\n",
    "\n",
    "|                 |  WIN | LOSS | TOTAL |\n",
    "|:---------------:|:----:|:----:|:-----:|\n",
    "|         Clay    | 1090 |  171 |  1261 |\n",
    "| Surface Nonclay | 2747 |  446 |  3193 |\n",
    "|           Total | 3837 |  617 |  4454 |\n",
    "\n",
    "2. Результаты Надаля на глиняных и других кортах — геймы, в которых он принимал подачу\n",
    "\n",
    "\n",
    "|                 |  WIN | LOSS | TOTAL|\n",
    "|:---------------:|:----:|:----:|:----:|\n",
    "|         Clay    |  570 |  692 | 1262 |\n",
    "| Surface Nonclay |  911 | 2269 | 3180 |\n",
    "|           Total | 1481 | 2961 | 4442 |\n",
    "\n",
    "Соберём данные в общую таблицу\n",
    "\n",
    "|          |  WIN | LOSS | TOTAL|\n",
    "|:--------:|:----:|:----:|:----:|\n",
    "|  Подавал |  3837 |  617 | 4454 |\n",
    "| Принимал |  1481 | 2961 | 4442 |\n",
    "\n",
    "Основная гипотеза: доли выигрыша равны"
   ]
  },
  {
   "cell_type": "code",
   "execution_count": 6,
   "id": "834451ce",
   "metadata": {},
   "outputs": [
    {
     "name": "stdout",
     "output_type": "stream",
     "text": [
      "['25.842110750245', '0.000000000000']\n"
     ]
    }
   ],
   "source": [
    "s1 = 3837                #  число успехов    выборка А\n",
    "n1 = 4454 + s1           #  число испытаний  выборка А\n",
    "s2 = 1481                #  число успехов    выборка Б\n",
    "n2 = 4442  + s2          #  число испытаний  выборка Б\n",
    "p1 = s1/n1               #  оценка вероятности успеха выборка А\n",
    "p2 = s2/n2               #  оценка вероятности успеха выборка Б\n",
    "p = (s1 + s2)/(n1+n2)    #  оценка вероятности успеха выборка А+Б\n",
    "z = (p2-p1)/ ((p*(1-p)*((1/n1)+(1/n2)))**0.5) \n",
    "\n",
    "p_value = norm.cdf(-abs(z))\n",
    "\n",
    "print(['{:.12f}'.format(a) for a in (abs(z), p_value * 2)])"
   ]
  },
  {
   "cell_type": "code",
   "execution_count": 9,
   "id": "bc33a8f8",
   "metadata": {},
   "outputs": [
    {
     "name": "stdout",
     "output_type": "stream",
     "text": [
      "['25.842110750245', '0.000000000000']\n"
     ]
    }
   ],
   "source": [
    "z1, p_value1 = sm.stats.proportions_ztest([s1, s2], [n1, n2])\n",
    "\n",
    "print(['{:.12f}'.format(b) for b in (z1, p_value1)])"
   ]
  },
  {
   "cell_type": "markdown",
   "id": "47b158ef",
   "metadata": {},
   "source": [
    "p-value меньше уровня значимости (0.05), основную гипотезу отвергаем. Проверим односторонюю альтернативную гипотезу."
   ]
  },
  {
   "cell_type": "code",
   "execution_count": 8,
   "id": "a4f0b673",
   "metadata": {},
   "outputs": [
    {
     "name": "stdout",
     "output_type": "stream",
     "text": [
      "['25.842110750245', '0.000000000000']\n"
     ]
    }
   ],
   "source": [
    "z1, p_value1 = sm.stats.proportions_ztest([s1, s2], [n1, n2], alternative='larger')\n",
    "\n",
    "print(['{:.12f}'.format(b) for b in (z1, p_value1)])"
   ]
  },
  {
   "cell_type": "markdown",
   "id": "cfbc5ba1",
   "metadata": {},
   "source": [
    "p-value меньше уровня значимости (0.05), альтернативная гипотеза о том, что доля выигрыша в случае геймов, когда он подавал, более вероятна."
   ]
  }
 ],
 "metadata": {
  "kernelspec": {
   "display_name": "Python 3 (ipykernel)",
   "language": "python",
   "name": "python3"
  },
  "language_info": {
   "codemirror_mode": {
    "name": "ipython",
    "version": 3
   },
   "file_extension": ".py",
   "mimetype": "text/x-python",
   "name": "python",
   "nbconvert_exporter": "python",
   "pygments_lexer": "ipython3",
   "version": "3.10.0"
  }
 },
 "nbformat": 4,
 "nbformat_minor": 5
}
